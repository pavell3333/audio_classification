{
 "cells": [
  {
   "cell_type": "code",
   "execution_count": 1,
   "id": "4d8c3805",
   "metadata": {},
   "outputs": [],
   "source": [
    "# необходимо чтобы следующие библиотеки были установлены\n",
    "\n",
    "import cv2 as cv2\n",
    "import librosa\n",
    "import numpy as np\n",
    "import tensorflow as tf\n"
   ]
  },
  {
   "cell_type": "code",
   "execution_count": 4,
   "id": "96b811de",
   "metadata": {},
   "outputs": [],
   "source": [
    "#пути к файлам модели\n",
    "#file_model - файл модели\n",
    "#file_weigth - веса модели\n",
    "\n",
    "file_model  = '/home/123/PycharmProjects/sssoft24.com/audio.h5'\n",
    "file_weigth = '/home/123/PycharmProjects/sssoft24.com/audio_weight.h5'\n",
    "\n",
    "\n",
    "def loadmodel(file_model, file_weigth):\n",
    "    model = tf.keras.models.Model()\n",
    "    model = tf.keras.models.load_model(file_model)\n",
    "    model.load_weights(file_weigth)\n",
    "    return model\n",
    "\n",
    "model = loadmodel(file_model, file_weigth)\n",
    "    "
   ]
  },
  {
   "cell_type": "code",
   "execution_count": null,
   "id": "705e4c37",
   "metadata": {},
   "outputs": [],
   "source": []
  },
  {
   "cell_type": "code",
   "execution_count": 5,
   "id": "d7efe000",
   "metadata": {},
   "outputs": [],
   "source": [
    "classes = {'fon': 0, 'micout': 1, 'noise': 2, 'psk100': 3, 'psk50': 4, 'voice': 5}\n",
    "\n",
    "def get_class_name(classes, predict_class):\n",
    "  for p in classes:\n",
    "    if classes[p] == predict_class:\n",
    "      return(p) \n",
    "\n",
    "\n",
    "def scale_minmax(X, min=0.0, max=1.0):\n",
    "    X_std = (X - X.min()) / (X.max() - X.min())\n",
    "    X_scaled = X_std * (max - min) + min\n",
    "    return X_scaled\n",
    "\n",
    "def mel_to_img(mel):\n",
    "    \n",
    "    pic = np.array(mel)\n",
    "    img = np.zeros((pic.shape[0], pic.shape[1], 3))\n",
    "    np.place(img[ :, :, 0], pic[ :, :], pic[ :, :]) \n",
    "    np.place(img[ :, :, 1], pic[ :, :], pic[ :, :]) \n",
    "    np.place(img[ :, :, 2], pic[ :, :], pic[ :, :]) \n",
    "    return img\n",
    "\n",
    "\n",
    "def convert_mel(freq, sr=22050, n_fft=8192):\n",
    "  mel = librosa.feature.melspectrogram(freq,sr=sr, n_fft=8192)  \n",
    "  mel = librosa.power_to_db(mel)\n",
    "  mel = scale_minmax(mel, 0, 255).astype(np.uint8)\n",
    "  mel = np.flip(mel, axis=0) \n",
    "  \n",
    "  return mel"
   ]
  },
  {
   "cell_type": "code",
   "execution_count": 10,
   "id": "edbb46a4",
   "metadata": {},
   "outputs": [],
   "source": [
    "def prepare_audio(file_name):\n",
    "    y, sr = librosa.load(file_name)    \n",
    "    mel = convert_mel(y, sr=sr)\n",
    "    mel = cv2.resize(mel, (360,192), interpolation=cv2.INTER_AREA)\n",
    "    mel = mel_to_img(mel)    \n",
    "    mel = mel/255\n",
    "    mel_np = np.expand_dims(mel,0)\n",
    "    return mel_np\n",
    "    "
   ]
  },
  {
   "cell_type": "code",
   "execution_count": 11,
   "id": "2e852048",
   "metadata": {},
   "outputs": [],
   "source": [
    "def predict(audio_file):    \n",
    "    img = prepare_audio(audio_file)    \n",
    "    predict = model.predict(img)\n",
    "    answer = get_class_name(classes, np.argmax(predict))\n",
    "    return print('Предсказанный класс: {}'.format(answer))"
   ]
  },
  {
   "cell_type": "code",
   "execution_count": 12,
   "id": "21aac74a",
   "metadata": {},
   "outputs": [],
   "source": [
    "# в переменную аудио записывается путь до аудиофайла .wav \n",
    "audio = '/home/123/PycharmProjects/sssoft24.com/1226 obuch17052021.wav'"
   ]
  },
  {
   "cell_type": "code",
   "execution_count": 13,
   "id": "795a547c",
   "metadata": {},
   "outputs": [
    {
     "name": "stdout",
     "output_type": "stream",
     "text": [
      "Предсказанный класс: voice\n"
     ]
    }
   ],
   "source": [
    "# при вызове функции predict передаем параметр пути аудиофайла, в ответ возвращается предикт нейронной сети\n",
    "\n",
    "predict(audio)"
   ]
  },
  {
   "cell_type": "code",
   "execution_count": null,
   "id": "d831b546",
   "metadata": {},
   "outputs": [],
   "source": []
  }
 ],
 "metadata": {
  "kernelspec": {
   "display_name": "Python 3",
   "language": "python",
   "name": "python3"
  },
  "language_info": {
   "codemirror_mode": {
    "name": "ipython",
    "version": 3
   },
   "file_extension": ".py",
   "mimetype": "text/x-python",
   "name": "python",
   "nbconvert_exporter": "python",
   "pygments_lexer": "ipython3",
   "version": "3.8.10"
  }
 },
 "nbformat": 4,
 "nbformat_minor": 5
}
